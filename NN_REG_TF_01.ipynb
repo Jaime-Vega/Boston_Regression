{
 "cells": [
  {
   "cell_type": "code",
   "execution_count": 1,
   "id": "e4f52ee9-1924-4bd1-bed8-a679e9b63143",
   "metadata": {},
   "outputs": [],
   "source": [
    "# FILE: /home/jaime/PYTHON/tensorflow/Neural_Network_Regression_Tensorflow/NN_REG_TF_01\n",
    "# Taken from:\n",
    "# Neural Network for Regression with Tensorflow\n",
    "# https://www.analyticsvidhya.com/blog/2021/11/neural-network-for-regression-with-tensorflow/"
   ]
  },
  {
   "cell_type": "code",
   "execution_count": 2,
   "id": "d68a085d-2b53-4835-91c2-92d3d9c533df",
   "metadata": {},
   "outputs": [],
   "source": [
    "# SEE (to solve problem with command: model = tf.keras.Sequential([tf.keras.layers.Dense(1)])):\n",
    "# tf.keras.layers.Dense\n",
    "# https://runebook.dev/es/docs/tensorflow/keras/layers/dense"
   ]
  },
  {
   "cell_type": "code",
   "execution_count": 3,
   "id": "2cdd3d09-e90f-4da4-a06d-d0980e32cde7",
   "metadata": {},
   "outputs": [
    {
     "name": "stdout",
     "output_type": "stream",
     "text": [
      "2.8.0\n"
     ]
    }
   ],
   "source": [
    "# importing some libraries \n",
    "\n",
    "import tensorflow as tf\n",
    "print(tf.__version__)\n",
    "import numpy as np\n",
    "import matplotlib.pyplot as plt"
   ]
  },
  {
   "cell_type": "code",
   "execution_count": 4,
   "id": "7d3d308c-f032-4d58-8e65-04d4b1c5d4a7",
   "metadata": {},
   "outputs": [],
   "source": [
    "# We are dealing with a regression problem, and we will create our dataset:\n",
    "\n",
    "X = np.arange(-110, 110, 3) \n",
    "y = np.arange(-100, 120, 3)"
   ]
  },
  {
   "cell_type": "code",
   "execution_count": 5,
   "id": "3f114875-ead1-440a-bb7f-84bd0be21c12",
   "metadata": {},
   "outputs": [
    {
     "name": "stdout",
     "output_type": "stream",
     "text": [
      "\n",
      "X.shape:\n",
      " (74,)\n",
      "\n",
      "X:\n",
      " [-110 -107 -104 -101  -98  -95  -92  -89  -86  -83  -80  -77  -74  -71\n",
      "  -68  -65  -62  -59  -56  -53  -50  -47  -44  -41  -38  -35  -32  -29\n",
      "  -26  -23  -20  -17  -14  -11   -8   -5   -2    1    4    7   10   13\n",
      "   16   19   22   25   28   31   34   37   40   43   46   49   52   55\n",
      "   58   61   64   67   70   73   76   79   82   85   88   91   94   97\n",
      "  100  103  106  109]\n",
      "\n",
      "y.shape:\n",
      " (74,)\n",
      "\n",
      "y:\n",
      " [-100  -97  -94  -91  -88  -85  -82  -79  -76  -73  -70  -67  -64  -61\n",
      "  -58  -55  -52  -49  -46  -43  -40  -37  -34  -31  -28  -25  -22  -19\n",
      "  -16  -13  -10   -7   -4   -1    2    5    8   11   14   17   20   23\n",
      "   26   29   32   35   38   41   44   47   50   53   56   59   62   65\n",
      "   68   71   74   77   80   83   86   89   92   95   98  101  104  107\n",
      "  110  113  116  119]\n"
     ]
    }
   ],
   "source": [
    "# One important point in NN is the input shapes and the output shapes. The input shape is the shape of the \n",
    "# data that we train the model on, and the output shape is the shape of data that we expect to come out of \n",
    "# our model. \n",
    "# Here we will use X and aim to predict y, so, X is our input and y is our output.\n",
    "\n",
    "print(\"\\nX.shape:\\n\", X.shape)                                      # JJVC\n",
    "print(\"\\nX:\\n\", X)                                                  # JJVC\n",
    "print(\"\\ny.shape:\\n\", y.shape)                                      # JJVC\n",
    "print(\"\\ny:\\n\", y)                                                  # JJVC\n",
    "# X.shape, y.shape"
   ]
  },
  {
   "cell_type": "code",
   "execution_count": 6,
   "id": "ea6a3b57-59bf-4cbe-a267-85a9c8cbf80f",
   "metadata": {},
   "outputs": [
    {
     "data": {
      "text/plain": [
       "(60, 14)"
      ]
     },
     "execution_count": 6,
     "metadata": {},
     "output_type": "execute_result"
    }
   ],
   "source": [
    "# Here we can see that our tensors have the same shape, but in real life, it may not be that way always, so, \n",
    "# we should check and fix that if needed before we build a model. Let’s start building our model with TensorFlow. \n",
    "# There are 3 typical steps to creating a model in TensorFlow:\n",
    "#    • Creating a model – connect the layers of the neural network yourself, here we either use Sequential or \n",
    "#      Functional API, also we may import a previously built model that we call transfer learning.\n",
    "#    • Compiling a model – at this step, we define how to measure a model’s performance, which optimizer should \n",
    "#      be used.\n",
    "#    • Fitting a model – In this step, we introduce the model to the data and let it find patterns.\n",
    "# We’ve created our dataset, that is why we can directly start modeling, but first, we need to split our train \n",
    "# and test set.\n",
    "\n",
    "X_train = X[:60]\n",
    "y_train = y[:60]\n",
    "X_test = X[60:]\n",
    "y_test = y[60:]\n",
    "len(X_train), len(X_test)"
   ]
  },
  {
   "cell_type": "code",
   "execution_count": 7,
   "id": "acfdf4e0-0f63-472a-88ab-404e8e215802",
   "metadata": {},
   "outputs": [
    {
     "data": {
      "text/plain": [
       "<matplotlib.legend.Legend at 0x7f5ff12be4c0>"
      ]
     },
     "execution_count": 7,
     "metadata": {},
     "output_type": "execute_result"
    },
    {
     "data": {
      "image/png": "[encoded data removed]",
      "text/plain": [
       "<Figure size 864x432 with 1 Axes>"
      ]
     },
     "metadata": {
      "needs_background": "light"
     },
     "output_type": "display_data"
    }
   ],
   "source": [
    "# The best way of getting more insight into our data is by visualizing it! So, let’s do it!\n",
    "\n",
    "plt.figure( figsize = (12,6))\n",
    "plt.scatter(X_train, y_train, c='b', label = 'Training data')\n",
    "plt.scatter(X_test, y_test, c='g', label='Testing data')\n",
    "plt.legend()"
   ]
  },
  {
   "cell_type": "code",
   "execution_count": 16,
   "id": "3018c1ec-84db-4c41-9ffa-7ece1c90ca34",
   "metadata": {},
   "outputs": [
    {
     "name": "stdout",
     "output_type": "stream",
     "text": [
      "\n",
      "X_train.shape:\n",
      " (60,)\n",
      "\n",
      "X_train:\n",
      " [-110 -107 -104 -101  -98  -95  -92  -89  -86  -83  -80  -77  -74  -71\n",
      "  -68  -65  -62  -59  -56  -53  -50  -47  -44  -41  -38  -35  -32  -29\n",
      "  -26  -23  -20  -17  -14  -11   -8   -5   -2    1    4    7   10   13\n",
      "   16   19   22   25   28   31   34   37   40   43   46   49   52   55\n",
      "   58   61   64   67]\n",
      "\n",
      "y_train.shape:\n",
      " (60,)\n",
      "\n",
      "y_train:\n",
      " [-100  -97  -94  -91  -88  -85  -82  -79  -76  -73  -70  -67  -64  -61\n",
      "  -58  -55  -52  -49  -46  -43  -40  -37  -34  -31  -28  -25  -22  -19\n",
      "  -16  -13  -10   -7   -4   -1    2    5    8   11   14   17   20   23\n",
      "   26   29   32   35   38   41   44   47   50   53   56   59   62   65\n",
      "   68   71   74   77]\n",
      "\n",
      "model.fit( X_train, y_train, epochs = 10)\n",
      "\n",
      "Epoch 1/10\n"
     ]
    },
    {
     "ename": "ValueError",
     "evalue": "in user code:\n\n    File \"/home/jaime/miniconda3/envs/tf-gpu/lib/python3.9/site-packages/keras/engine/training.py\", line 1021, in train_function  *\n        return step_function(self, iterator)\n    File \"/home/jaime/miniconda3/envs/tf-gpu/lib/python3.9/site-packages/keras/engine/training.py\", line 1010, in step_function  **\n        outputs = model.distribute_strategy.run(run_step, args=(data,))\n    File \"/home/jaime/miniconda3/envs/tf-gpu/lib/python3.9/site-packages/keras/engine/training.py\", line 1000, in run_step  **\n        outputs = model.train_step(data)\n    File \"/home/jaime/miniconda3/envs/tf-gpu/lib/python3.9/site-packages/keras/engine/training.py\", line 859, in train_step\n        y_pred = self(x, training=True)\n    File \"/home/jaime/miniconda3/envs/tf-gpu/lib/python3.9/site-packages/keras/utils/traceback_utils.py\", line 67, in error_handler\n        raise e.with_traceback(filtered_tb) from None\n    File \"/home/jaime/miniconda3/envs/tf-gpu/lib/python3.9/site-packages/keras/engine/input_spec.py\", line 228, in assert_input_compatibility\n        raise ValueError(f'Input {input_index} of layer \"{layer_name}\" '\n\n    ValueError: Exception encountered when calling layer \"sequential_8\" (type Sequential).\n    \n    Input 0 of layer \"dense_8\" is incompatible with the layer: expected min_ndim=2, found ndim=1. Full shape received: (None,)\n    \n    Call arguments received:\n      • inputs=tf.Tensor(shape=(None,), dtype=int64)\n      • training=True\n      • mask=None\n",
     "output_type": "error",
     "traceback": [
      "\u001b[0;31m---------------------------------------------------------------------------\u001b[0m",
      "\u001b[0;31mValueError\u001b[0m                                Traceback (most recent call last)",
      "\u001b[0;32m<ipython-input-16-aabf7f266b81>\u001b[0m in \u001b[0;36m<module>\u001b[0;34m\u001b[0m\n\u001b[1;32m     15\u001b[0m \u001b[0;34m\u001b[0m\u001b[0m\n\u001b[1;32m     16\u001b[0m \u001b[0mprint\u001b[0m\u001b[0;34m(\u001b[0m\u001b[0;34m\"\\nmodel.fit( X_train, y_train, epochs = 10)\\n\"\u001b[0m\u001b[0;34m)\u001b[0m\u001b[0;34m\u001b[0m\u001b[0;34m\u001b[0m\u001b[0m\n\u001b[0;32m---> 17\u001b[0;31m \u001b[0mmodel\u001b[0m\u001b[0;34m.\u001b[0m\u001b[0mfit\u001b[0m\u001b[0;34m(\u001b[0m \u001b[0mX_train\u001b[0m\u001b[0;34m,\u001b[0m \u001b[0my_train\u001b[0m\u001b[0;34m,\u001b[0m \u001b[0mepochs\u001b[0m \u001b[0;34m=\u001b[0m \u001b[0;36m10\u001b[0m\u001b[0;34m)\u001b[0m\u001b[0;34m\u001b[0m\u001b[0;34m\u001b[0m\u001b[0m\n\u001b[0m",
      "\u001b[0;32m~/miniconda3/envs/tf-gpu/lib/python3.9/site-packages/keras/utils/traceback_utils.py\u001b[0m in \u001b[0;36merror_handler\u001b[0;34m(*args, **kwargs)\u001b[0m\n\u001b[1;32m     65\u001b[0m     \u001b[0;32mexcept\u001b[0m \u001b[0mException\u001b[0m \u001b[0;32mas\u001b[0m \u001b[0me\u001b[0m\u001b[0;34m:\u001b[0m  \u001b[0;31m# pylint: disable=broad-except\u001b[0m\u001b[0;34m\u001b[0m\u001b[0;34m\u001b[0m\u001b[0m\n\u001b[1;32m     66\u001b[0m       \u001b[0mfiltered_tb\u001b[0m \u001b[0;34m=\u001b[0m \u001b[0m_process_traceback_frames\u001b[0m\u001b[0;34m(\u001b[0m\u001b[0me\u001b[0m\u001b[0;34m.\u001b[0m\u001b[0m__traceback__\u001b[0m\u001b[0;34m)\u001b[0m\u001b[0;34m\u001b[0m\u001b[0;34m\u001b[0m\u001b[0m\n\u001b[0;32m---> 67\u001b[0;31m       \u001b[0;32mraise\u001b[0m \u001b[0me\u001b[0m\u001b[0;34m.\u001b[0m\u001b[0mwith_traceback\u001b[0m\u001b[0;34m(\u001b[0m\u001b[0mfiltered_tb\u001b[0m\u001b[0;34m)\u001b[0m \u001b[0;32mfrom\u001b[0m \u001b[0;32mNone\u001b[0m\u001b[0;34m\u001b[0m\u001b[0;34m\u001b[0m\u001b[0m\n\u001b[0m\u001b[1;32m     68\u001b[0m     \u001b[0;32mfinally\u001b[0m\u001b[0;34m:\u001b[0m\u001b[0;34m\u001b[0m\u001b[0;34m\u001b[0m\u001b[0m\n\u001b[1;32m     69\u001b[0m       \u001b[0;32mdel\u001b[0m \u001b[0mfiltered_tb\u001b[0m\u001b[0;34m\u001b[0m\u001b[0;34m\u001b[0m\u001b[0m\n",
      "\u001b[0;32m~/miniconda3/envs/tf-gpu/lib/python3.9/site-packages/tensorflow/python/framework/func_graph.py\u001b[0m in \u001b[0;36mautograph_handler\u001b[0;34m(*args, **kwargs)\u001b[0m\n\u001b[1;32m   1145\u001b[0m           \u001b[0;32mexcept\u001b[0m \u001b[0mException\u001b[0m \u001b[0;32mas\u001b[0m \u001b[0me\u001b[0m\u001b[0;34m:\u001b[0m  \u001b[0;31m# pylint:disable=broad-except\u001b[0m\u001b[0;34m\u001b[0m\u001b[0;34m\u001b[0m\u001b[0m\n\u001b[1;32m   1146\u001b[0m             \u001b[0;32mif\u001b[0m \u001b[0mhasattr\u001b[0m\u001b[0;34m(\u001b[0m\u001b[0me\u001b[0m\u001b[0;34m,\u001b[0m \u001b[0;34m\"ag_error_metadata\"\u001b[0m\u001b[0;34m)\u001b[0m\u001b[0;34m:\u001b[0m\u001b[0;34m\u001b[0m\u001b[0;34m\u001b[0m\u001b[0m\n\u001b[0;32m-> 1147\u001b[0;31m               \u001b[0;32mraise\u001b[0m \u001b[0me\u001b[0m\u001b[0;34m.\u001b[0m\u001b[0mag_error_metadata\u001b[0m\u001b[0;34m.\u001b[0m\u001b[0mto_exception\u001b[0m\u001b[0;34m(\u001b[0m\u001b[0me\u001b[0m\u001b[0;34m)\u001b[0m\u001b[0;34m\u001b[0m\u001b[0;34m\u001b[0m\u001b[0m\n\u001b[0m\u001b[1;32m   1148\u001b[0m             \u001b[0;32melse\u001b[0m\u001b[0;34m:\u001b[0m\u001b[0;34m\u001b[0m\u001b[0;34m\u001b[0m\u001b[0m\n\u001b[1;32m   1149\u001b[0m               \u001b[0;32mraise\u001b[0m\u001b[0;34m\u001b[0m\u001b[0;34m\u001b[0m\u001b[0m\n",
      "\u001b[0;31mValueError\u001b[0m: in user code:\n\n    File \"/home/jaime/miniconda3/envs/tf-gpu/lib/python3.9/site-packages/keras/engine/training.py\", line 1021, in train_function  *\n        return step_function(self, iterator)\n    File \"/home/jaime/miniconda3/envs/tf-gpu/lib/python3.9/site-packages/keras/engine/training.py\", line 1010, in step_function  **\n        outputs = model.distribute_strategy.run(run_step, args=(data,))\n    File \"/home/jaime/miniconda3/envs/tf-gpu/lib/python3.9/site-packages/keras/engine/training.py\", line 1000, in run_step  **\n        outputs = model.train_step(data)\n    File \"/home/jaime/miniconda3/envs/tf-gpu/lib/python3.9/site-packages/keras/engine/training.py\", line 859, in train_step\n        y_pred = self(x, training=True)\n    File \"/home/jaime/miniconda3/envs/tf-gpu/lib/python3.9/site-packages/keras/utils/traceback_utils.py\", line 67, in error_handler\n        raise e.with_traceback(filtered_tb) from None\n    File \"/home/jaime/miniconda3/envs/tf-gpu/lib/python3.9/site-packages/keras/engine/input_spec.py\", line 228, in assert_input_compatibility\n        raise ValueError(f'Input {input_index} of layer \"{layer_name}\" '\n\n    ValueError: Exception encountered when calling layer \"sequential_8\" (type Sequential).\n    \n    Input 0 of layer \"dense_8\" is incompatible with the layer: expected min_ndim=2, found ndim=1. Full shape received: (None,)\n    \n    Call arguments received:\n      • inputs=tf.Tensor(shape=(None,), dtype=int64)\n      • training=True\n      • mask=None\n"
     ]
    }
   ],
   "source": [
    "# Building Regression model with Neural Network\n",
    "# Now we can start to build some models.\n",
    "\n",
    "print(\"\\nX_train.shape:\\n\", X_train.shape)                          # JJVC\n",
    "print(\"\\nX_train:\\n\", X_train)                                      # JJVC\n",
    "print(\"\\ny_train.shape:\\n\", y_train.shape)                          # JJVC\n",
    "print(\"\\ny_train:\\n\", y_train)                                      # JJVC\n",
    "\n",
    "tf.random.set_seed(42)  #first we set random seed\n",
    "model = tf.keras.Sequential([tf.keras.layers.Dense(1)])                                                                      # JJVC\n",
    "model.compile( loss = tf.keras.losses.mae, optimizer = tf.keras.optimizers.SGD(), metrics = ['mae'])                         # JJVC\n",
    "# mae stands for mean absolute error\n",
    "# SGD stands for stochastic Gradient desense\n",
    "\n",
    "\n",
    "print(\"\\nmodel.fit( X_train, y_train, epochs = 10)\\n\")  \n",
    "model.fit( X_train, y_train, epochs = 10)"
   ]
  },
  {
   "cell_type": "code",
   "execution_count": null,
   "id": "1dcee12b-9f60-46fd-abe3-cc517f6b14d5",
   "metadata": {},
   "outputs": [],
   "source": [
    "# We have just built a model and trained it! What about checking its predictions?\n",
    "\n",
    "model.predict([130])"
   ]
  },
  {
   "cell_type": "code",
   "execution_count": null,
   "id": "28a8f2e5-87bd-4e1b-81cb-041e9d0b1d1f",
   "metadata": {},
   "outputs": [],
   "source": [
    "# The output should have been close to 140, it is not close enough, so let’s start to improve our model.\n",
    "\n",
    "tf.random.set_seed(42)\n",
    "model_1 = tf.keras.Sequential([tf.keras.layers.Dense(1)])\n",
    "model_1.compile( loss = tf.keras.losses.mae, optimizer = tf.keras.optimizers.SGD(), metrics = ['mae'])\n",
    "model_1.fit( X_train, y_train, epochs = 100, verbose = 0)"
   ]
  },
  {
   "cell_type": "code",
   "execution_count": null,
   "id": "ef2b6bd6-5628-412f-b09f-c31d5e79d5ee",
   "metadata": {},
   "outputs": [],
   "source": [
    "# Here we have increased the number of epochs to make our train longer. Also if we add\n",
    "# “verbose = 0” we will not see the procedure of training (the procedure shown in the picture above). \n",
    "# Let’s check predictions again.\n",
    "\n",
    "preds = model_1.predict(X_test)\n",
    "preds"
   ]
  },
  {
   "cell_type": "code",
   "execution_count": null,
   "id": "7a9ef25c-c602-41fe-b242-645f886fb4b7",
   "metadata": {},
   "outputs": [],
   "source": [
    "# As I mentioned above, visualization always helps better to understand, \n",
    "# so let’s build a function and use it for visualization every time.\n",
    "\n",
    "def plot_preds(traindata = X_train,\n",
    "               trainlabels = y_train,\n",
    "               testdata = X_test,\n",
    "               testlabels = y_test,\n",
    "               predictions = preds):\n",
    "  plt.figure(figsize=(12,6))\n",
    "  plt.scatter(traindata, trainlabels, c=\"b\", label=\"Training data\")\n",
    "  plt.scatter(testdata, testlabels, c=\"g\", label=\"Testing data\")\n",
    "  plt.scatter(testdata, predictions, c=\"r\", label=\"Predictions\")\n",
    "  plt.legend()"
   ]
  },
  {
   "cell_type": "code",
   "execution_count": null,
   "id": "8c9e0d45-ce41-44cf-bd48-dbc04f76f16c",
   "metadata": {},
   "outputs": [],
   "source": [
    "plot_preds(traindata = X_train,\n",
    "\n",
    "           trainlabels = y_train,\n",
    "\n",
    "           testdata = X_test,\n",
    "\n",
    "           testlabels = y_test,\n",
    "\n",
    "           predictions = preds)\n",
    "\n",
    "# As we can see from the plot, our predictions are not perfect, but quite good as far. \n",
    "# Let’s evaluate predictions, then see if we can do better."
   ]
  },
  {
   "cell_type": "code",
   "execution_count": null,
   "id": "b656654d-ff22-402d-96cf-f1921bd6a4e3",
   "metadata": {},
   "outputs": [],
   "source": [
    "# Evaluate the Regression Model with Neural Network\n",
    "# For regression problems, we have 2 evaluation metrics, MAE(mean absolute error)  and MSE(mean squared error). \n",
    "# For our model we have used MAE, so, let’s compare predictions to the real values:\n",
    "\n",
    "mae = tf.metrics.mean_absolute_error( y_true = y_test, y_pred = preds)\n",
    "mae"
   ]
  },
  {
   "cell_type": "code",
   "execution_count": null,
   "id": "ff49351b-34b7-4c50-8f1a-82e68631feeb",
   "metadata": {},
   "outputs": [],
   "source": [
    "# What? MAE should be a single value, instead, we got 14 values, what is the reason for that? \n",
    "# This is the result of different shapes. let’s prove it.\n",
    "\n",
    "y_test.shape, preds.shape"
   ]
  },
  {
   "cell_type": "code",
   "execution_count": null,
   "id": "1828c19d-db3c-440c-8645-d3593e465c1b",
   "metadata": {},
   "outputs": [],
   "source": [
    "# Yes, y_test and preds have different shapes, fortunately, we can fix it:\n",
    "\n",
    "preds.squeeze().shape"
   ]
  },
  {
   "cell_type": "code",
   "execution_count": null,
   "id": "b21f9257-8707-4758-a813-bba89232e576",
   "metadata": {},
   "outputs": [],
   "source": [
    "# Voila! let’s calculate the metrics again:\n",
    "\n",
    "mae = tf.metrics.mean_absolute_error(y_true=y_test, y_pred=preds.squeeze()).numpy()\n",
    "mse = tf.metrics.mean_squared_error(y_true = y_test, y_pred=preds.squeeze()).numpy()\n",
    "mae, mse\n",
    "\n",
    "# You may ask that, why we used  “numpy()” function at the end of the line. \n",
    "# I have done this on purpose because, in the end, we will convert our calculations into DataFrame.\n",
    "# So, let’s keep working!"
   ]
  },
  {
   "cell_type": "code",
   "execution_count": null,
   "id": "bcdfc965-4029-4857-a582-27b7fc5c1f7d",
   "metadata": {},
   "outputs": [],
   "source": [
    "# Improve the Regression model with neural network\n",
    "\n",
    "tf.random.set_seed(42)\n",
    "model_2 = tf.keras.Sequential([tf.keras.layers.Dense(1), tf.keras.layers.Dense(1)])\n",
    "model_2.compile(loss=tf.keras.losses.mae, optimizer=tf.keras.optimizers.SGD(), metrics=['mae'])\n",
    "model_2.fit(X_train, y_train, epochs=100, verbose=0)"
   ]
  },
  {
   "cell_type": "code",
   "execution_count": null,
   "id": "c0fa493b-104f-44bd-8ac7-8635ab6ee1f0",
   "metadata": {},
   "outputs": [],
   "source": [
    "# Here we just replicated the first model, and add an extra layer to see how it works?\n",
    "\n",
    "preds_2 = model_2.predict(X_test)\n",
    "plot_preds(predictions=preds_2)"
   ]
  },
  {
   "cell_type": "code",
   "execution_count": null,
   "id": "062d91f7-da3f-455c-a40a-00677f0c77ce",
   "metadata": {},
   "outputs": [],
   "source": [
    "mae_2 = tf.metrics.mean_absolute_error(y_true=y_test, y_pred=preds_2.squeeze()).numpy()\n",
    "mse_2 = tf.metrics.mean_squared_error(y_true = y_test, y_pred=preds_2.squeeze()).numpy()\n",
    "mae_2,mse_2"
   ]
  },
  {
   "cell_type": "code",
   "execution_count": null,
   "id": "348d7948-b955-4c41-a702-820b44cc8a19",
   "metadata": {},
   "outputs": [],
   "source": [
    "# It seems like, extra layer didn’t help us to make our model better. Let’s try to change our optimizer.\n",
    "\n",
    "tf.random.set_seed(42)\n",
    "model_3 = tf.keras.Sequential([\n",
    "  tf.keras.layers.Dense(1),\n",
    "  tf.keras.layers.Dense(1)\n",
    "])\n",
    "model_3.compile(loss=tf.keras.losses.mae,\n",
    "                optimizer=tf.keras.optimizers.Adam(),\n",
    "                metrics=['mae'])\n",
    "model_3.fit(X_train, y_train, epochs=100, verbose=0)"
   ]
  },
  {
   "cell_type": "code",
   "execution_count": null,
   "id": "ad8ac03d-ad9c-4ded-988a-7db9e8b71847",
   "metadata": {},
   "outputs": [],
   "source": [
    "# We have used “Adam()” optimizer instead of “SGD()”.\n",
    "\n",
    "preds_3 = model_3.predict(X_test)\n",
    "mae_3 = tf.metrics.mean_absolute_error(y_true=y_test, y_pred=preds_3.squeeze()).numpy()\n",
    "mse_3 = tf.metrics.mean_squared_error(y_true = y_test, y_pred=preds_3.squeeze()).numpy()\n",
    "mae_3,mse_3"
   ]
  },
  {
   "cell_type": "code",
   "execution_count": null,
   "id": "6ad7ff8c-52c5-489a-b551-96a1fb77ae76",
   "metadata": {},
   "outputs": [],
   "source": [
    "tf.random.set_seed(42)\n",
    "\n",
    "model_4 = tf.keras.Sequential([tf.keras.layers.Dense(100), tf.keras.layers.Dense(10), tf.keras.layers.Dense(1)\n",
    "m.set_seed(42)\n",
    "model_4 = tf.keras.Sequential([tf.keras.layers.Dense(100), tf.keras.layers.Dense(10), tf.keras.layers.Dense(1)])\n",
    "model_4.compile(loss=tf.keras.losses.mae, optimizer=tf.keras.optimizers.Adam(), metrics=['mae'])\n",
    "mo\n",
    "])\n",
    "\n",
    "model_4.compile(loss=tf.keras.losses.mae, optimizer=tf.keras.optimizers.Adam(), metrics=['mae'])\n",
    "\n",
    "model_4.fit(X_train, y_train, epochs=100, verbose=0)"
   ]
  },
  {
   "cell_type": "code",
   "execution_count": null,
   "id": "da1ced45-42f5-4e77-8eac-88559b19d457",
   "metadata": {},
   "outputs": [],
   "source": [
    "# This time we have added one extra layer and some extra neurons to make our predictions better. Let’s check it out.\n",
    "\n",
    "preds_4 = model_4.predict(X_test)\n",
    "plot_preds(predictions=preds_4)"
   ]
  },
  {
   "cell_type": "code",
   "execution_count": null,
   "id": "0397dbc0-7003-46e6-9a74-fa73cf8c3fd9",
   "metadata": {},
   "outputs": [],
   "source": [
    "# We are getting close!\n",
    "\n",
    "mae_4 = tf.metrics.mean_absolute_error(y_true=y_test, y_pred=preds_4.squeeze()).numpy()\n",
    "mse_4 = tf.metrics.mean_squared_error(y_true = y_test, y_pred=preds_4.squeeze()).numpy()\n",
    "mae_4,mse_4"
   ]
  },
  {
   "cell_type": "code",
   "execution_count": null,
   "id": "245b7eda-0011-4b31-a36d-dd6110143c2a",
   "metadata": {},
   "outputs": [],
   "source": [
    "# In Neural Network we have 2 activation functions, Sigmoid and Relu. Let’s check them to see if they work for our model, or not:\n",
    "\n",
    "tf.random.set_seed(42)\n",
    "model_5 = tf.keras.Sequential([tf.keras.layers.Dense(10, activation = tf.keras.activations.relu), tf.keras.layers.Dense(1)])\n",
    "model_5.compile(loss=tf.keras.losses.mae, optimizer=tf.keras.optimizers.Adam(), metrics=['mae'])\n",
    "model_5.fit(X_train, y_train, epochs=100, verbose=0)"
   ]
  },
  {
   "cell_type": "code",
   "execution_count": null,
   "id": "cc1a5070-36fd-4037-ab53-9ac48f0e2a6b",
   "metadata": {},
   "outputs": [],
   "source": [
    "# preds_5 = model_5.predict(X_test)\n",
    "\n",
    "mae_5 = tf.metrics.mean_absolute_error(y_true=y_test, y_pred=preds_5.squeeze()).numpy()\n",
    "mse_5 = tf.metrics.mean_squared_error(y_true = y_test, y_pred=preds_5.squeeze()).numpy()\n",
    "mae_5, mse_5"
   ]
  },
  {
   "cell_type": "code",
   "execution_count": null,
   "id": "3bfc3330-0db5-4842-b501-2a46949299c0",
   "metadata": {},
   "outputs": [],
   "source": [
    "# It is always good to check more possible combinations, because, I promise, \n",
    "# this is the best way to both make better predictions and learn more each time.\n",
    "\n",
    "tf.random.set_seed(42)\n",
    "model_6 = tf.keras.Sequential([tf.keras.layers.Dense(100, activation = tf.keras.activations.relu), tf.keras.layers.Dense(10), tf.keras.layers.Dense(1)])\n",
    "model_6.compile(loss=tf.keras.losses.mae, optimizer=tf.keras.optimizers.SGD(), metrics=['mae'])\n",
    "model_6.fit(X_train, y_train, epochs=100, verbose=0)"
   ]
  },
  {
   "cell_type": "code",
   "execution_count": null,
   "id": "a069f1f1-a83f-4a02-b819-1c28b71b9ed0",
   "metadata": {},
   "outputs": [],
   "source": [
    "# Here we have just changed the optimizer to SGD() and checked its performance with the Relu activation function.\n",
    "\n",
    "preds_6 = model_6.predict(X_test)\n",
    "mae_6 = tf.metrics.mean_absolute_error(y_true=y_test, y_pred=preds_6.squeeze()).numpy()\n",
    "mse_6 = tf.metrics.mean_squared_error(y_true = y_test, y_pred=preds_6.squeeze()).numpy()\n",
    "mae_6, mse_6"
   ]
  },
  {
   "cell_type": "code",
   "execution_count": null,
   "id": "979ac93c-3d59-4f26-b528-d1557c297973",
   "metadata": {},
   "outputs": [],
   "source": [
    "# And we have just made almost perfect predictions! Let’s see the evaluation process of our model:\n",
    "\n",
    "model_results = [['model_1', mae, mse],\n",
    "                 ['model_2', mae_2, mse_2],\n",
    "                 ['model_3', mae_3, mse_3], \n",
    "                 ['model_4', mae_4, mse_4], \n",
    "                 ['model_5', mae_5, mse_5],\n",
    "                 ['model_6', mae_6, mse_6]] "
   ]
  },
  {
   "cell_type": "code",
   "execution_count": null,
   "id": "99451c65-da4d-4e53-bfd8-fc28da63ff36",
   "metadata": {},
   "outputs": [],
   "source": [
    "import pandas as pd\n",
    "\n",
    "all_results = pd.DataFrame(model_results, columns=[\"model\", \"mae\", \"mse\"])\n",
    "all_results"
   ]
  },
  {
   "cell_type": "code",
   "execution_count": null,
   "id": "7d8e2534-1e81-4c5a-889d-8c03f21b6f08",
   "metadata": {},
   "outputs": [],
   "source": [
    "# Conclusion\n",
    "# Together we created 6 different models and visualized and developed them. \n",
    "# The most important point I want to show in this article is that not every solution always works for every model and problem. \n",
    "# To find the optimal solution we need to practice and check. \n",
    "# It is only necessary to take into account that the neural network works completely like the human brain, \n",
    "# so there is no need to be afraid to look for the optimal solution by evaluating all the possible options. \n",
    "# After understanding and setting up models on similar problems several times, \n",
    "# you will be able to anticipate and use which API, which combination of parameters works best for which problem.\n",
    "\n",
    "# I hope the article was useful to you.\n",
    "\n",
    "# The media shown in this article are not owned by Analytics Vidhya and are used at the Author’s discretion."
   ]
  }
 ],
 "metadata": {
  "kernelspec": {
   "display_name": "“tf-gpu”",
   "language": "python",
   "name": "tf-gpu"
  },
  "language_info": {
   "codemirror_mode": {
    "name": "ipython",
    "version": 3
   },
   "file_extension": ".py",
   "mimetype": "text/x-python",
   "name": "python",
   "nbconvert_exporter": "python",
   "pygments_lexer": "ipython3",
   "version": "3.9.7"
  }
 },
 "nbformat": 4,
 "nbformat_minor": 5
}
